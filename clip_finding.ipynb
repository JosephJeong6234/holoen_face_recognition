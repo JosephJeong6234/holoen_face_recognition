{
 "cells": [
  {
   "cell_type": "code",
   "execution_count": 1,
   "metadata": {},
   "outputs": [],
   "source": [
    "%%capture\n",
    "!pip install selenium\n",
    "\n",
    "import urllib.request\n",
    "import re "
   ]
  },
  {
   "cell_type": "code",
   "execution_count": 2,
   "metadata": {},
   "outputs": [],
   "source": [
    "#vtuberList = [\"Mori+Calliope\", \"Takanashi+Kiara\", \"Ninomae+Ina'nis\", \"Gawr+Gura\", \"Watson+Amelia\", \"Irys\", \"Ceres+Fauna\", \"Ouro+Kronii\", \"Nanashi+Mumei\", \"Hakos+Baelz\"]\n",
    "#led to bad results\n",
    "vtuberList = [\"Calli\", \"Takanashi+Kiara\", \"Ina\", \"Gura\", \"Watson+Amelia\", \"Irys\", \"Fauna\", \"Kronii\", \"Mumei\", \"Baelz\"]\n",
    "videoUrls = []\n",
    "for vchuba in vtuberList:\n",
    "    html = urllib.request.urlopen(\"https://www.youtube.com/results?search_query=\"+ vchuba + \"+clips\")\n",
    "    videoIds = re.findall(r\"watch\\?v=(\\S{11})\", html.read().decode()) #looking for 11 non-whitespace chars with \\S to signify nonwhitespace\n",
    "    counter = 0\n",
    "    for id in videoIds:\n",
    "        newId = \"https://www.youtube.com/watch?v=\" + id\n",
    "        if newId not in videoUrls:\n",
    "            videoUrls.append(newId)\n",
    "            counter += 1\n",
    "        if (counter > 4):\n",
    "            break\n",
    "with open('links.txt', 'w') as f:\n",
    "    for link in videoUrls:\n",
    "        f.write(link)\n",
    "        f.write('\\n')"
   ]
  },
  {
   "cell_type": "code",
   "execution_count": null,
   "metadata": {},
   "outputs": [],
   "source": []
  }
 ],
 "metadata": {
  "kernelspec": {
   "display_name": "Python 3",
   "language": "python",
   "name": "python3"
  },
  "language_info": {
   "codemirror_mode": {
    "name": "ipython",
    "version": 3
   },
   "file_extension": ".py",
   "mimetype": "text/x-python",
   "name": "python",
   "nbconvert_exporter": "python",
   "pygments_lexer": "ipython3",
   "version": "3.8.3"
  }
 },
 "nbformat": 4,
 "nbformat_minor": 4
}
