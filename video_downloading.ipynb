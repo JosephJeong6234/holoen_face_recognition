{
 "cells": [
  {
   "cell_type": "code",
   "execution_count": 7,
   "metadata": {},
   "outputs": [
    {
     "name": "stdout",
     "output_type": "stream",
     "text": [
      "Requirement already satisfied: pytube in /Users/jjeong/opt/anaconda3/lib/python3.8/site-packages (15.0.0)\r\n"
     ]
    }
   ],
   "source": [
    "!pip3 install pytube\n",
    "from pytube import YouTube"
   ]
  },
  {
   "cell_type": "code",
   "execution_count": 8,
   "metadata": {},
   "outputs": [
    {
     "ename": "AttributeError",
     "evalue": "'YouTube' object has no attribute 'filter'",
     "output_type": "error",
     "traceback": [
      "\u001b[0;31m---------------------------------------------------------------------------\u001b[0m",
      "\u001b[0;31mAttributeError\u001b[0m                            Traceback (most recent call last)",
      "\u001b[0;32m<ipython-input-8-088b446a95c5>\u001b[0m in \u001b[0;36m<module>\u001b[0;34m\u001b[0m\n\u001b[1;32m     18\u001b[0m \u001b[0;34m\u001b[0m\u001b[0m\n\u001b[1;32m     19\u001b[0m     \u001b[0;31m#filters out all the files with \"mp4\" extension\u001b[0m\u001b[0;34m\u001b[0m\u001b[0;34m\u001b[0m\u001b[0;34m\u001b[0m\u001b[0m\n\u001b[0;32m---> 20\u001b[0;31m     \u001b[0mmp4files\u001b[0m \u001b[0;34m=\u001b[0m \u001b[0myt\u001b[0m\u001b[0;34m.\u001b[0m\u001b[0mfilter\u001b[0m\u001b[0;34m(\u001b[0m\u001b[0;34m'mp4'\u001b[0m\u001b[0;34m)\u001b[0m\u001b[0;34m\u001b[0m\u001b[0;34m\u001b[0m\u001b[0m\n\u001b[0m\u001b[1;32m     21\u001b[0m \u001b[0;34m\u001b[0m\u001b[0m\n\u001b[1;32m     22\u001b[0m     \u001b[0;31m# get the video with the extension and\u001b[0m\u001b[0;34m\u001b[0m\u001b[0;34m\u001b[0m\u001b[0;34m\u001b[0m\u001b[0m\n",
      "\u001b[0;31mAttributeError\u001b[0m: 'YouTube' object has no attribute 'filter'"
     ]
    }
   ],
   "source": [
    "#failure due to outdated\n",
    "# where to save \n",
    "SAVE_PATH = \"Users/jjeong/tem_tweets\" \n",
    "  \n",
    "# link of the video to be downloaded \n",
    "# opening the file \n",
    "link=open('links.txt','r') \n",
    "  \n",
    "for i in link: \n",
    "    try: \n",
    "          \n",
    "        # object creation using YouTube\n",
    "        # which was imported in the beginning \n",
    "        yt = YouTube(i) \n",
    "    except: \n",
    "          \n",
    "        #to handle exception\n",
    "        print(\"Connection Error\")  \n",
    "      \n",
    "    #filters out all the files with \"mp4\" extension \n",
    "    mp4files = yt.filter('mp4') \n",
    "      \n",
    "    # get the video with the extension and\n",
    "    # resolution passed in the get() function \n",
    "    d_video = yt.get(mp4files[-1].extension,mp4files[-1].resolution) \n",
    "    try: \n",
    "          \n",
    "        # downloading the video \n",
    "        d_video.download(SAVE_PATH) \n",
    "    except: \n",
    "        print(\"Some Error!\") \n",
    "print('Task Completed!') "
   ]
  },
  {
   "cell_type": "code",
   "execution_count": 12,
   "metadata": {},
   "outputs": [
    {
     "name": "stdout",
     "output_type": "stream",
     "text": [
      "Some Error!\n",
      "Some Error!\n",
      "Some Error!\n",
      "Some Error!\n",
      "Some Error!\n",
      "Some Error!\n",
      "Some Error!\n",
      "Some Error!\n",
      "Some Error!\n",
      "Some Error!\n",
      "Some Error!\n",
      "Some Error!\n",
      "Some Error!\n",
      "Some Error!\n",
      "Some Error!\n",
      "Some Error!\n",
      "Some Error!\n",
      "Some Error!\n",
      "Some Error!\n",
      "Some Error!\n",
      "Some Error!\n",
      "Some Error!\n",
      "Some Error!\n",
      "Some Error!\n",
      "Some Error!\n",
      "Some Error!\n",
      "Some Error!\n",
      "Some Error!\n",
      "Some Error!\n",
      "Some Error!\n",
      "Some Error!\n",
      "Some Error!\n",
      "Some Error!\n",
      "Some Error!\n",
      "Task Completed!\n"
     ]
    }
   ],
   "source": [
    "# where to save \n",
    "SAVE_PATH = \"Users/jjeong/tem_tweets/videoes\" \n",
    "  \n",
    "# link of the video to be downloaded \n",
    "# opening the file \n",
    "link=open('links.txt','r') \n",
    "  \n",
    "for i in link: \n",
    "    try: \n",
    "          \n",
    "        # object creation using YouTube\n",
    "        # which was imported in the beginning \n",
    "        #yt = YouTube(i).streams.first().download()\n",
    "        yt = YouTube(i)\n",
    "    except: \n",
    "          \n",
    "        #to handle exception\n",
    "        print(\"Connection Error\")  \n",
    "      \n",
    "    #filters out all the files with \"mp4\" extension \n",
    "    d_video = yt.streams.filter(progressive=True, file_extension='mp4').order_by('resolution').desc().first().download()      \n",
    "    try: \n",
    "          \n",
    "        # downloading the video \n",
    "        d_video.download(SAVE_PATH) \n",
    "    except: \n",
    "        print(\"Some Error!\") \n",
    "print('Task Completed!') "
   ]
  },
  {
   "cell_type": "code",
   "execution_count": null,
   "metadata": {},
   "outputs": [],
   "source": []
  },
  {
   "cell_type": "code",
   "execution_count": null,
   "metadata": {},
   "outputs": [],
   "source": []
  }
 ],
 "metadata": {
  "kernelspec": {
   "display_name": "Python 3",
   "language": "python",
   "name": "python3"
  },
  "language_info": {
   "codemirror_mode": {
    "name": "ipython",
    "version": 3
   },
   "file_extension": ".py",
   "mimetype": "text/x-python",
   "name": "python",
   "nbconvert_exporter": "python",
   "pygments_lexer": "ipython3",
   "version": "3.8.3"
  }
 },
 "nbformat": 4,
 "nbformat_minor": 4
}
