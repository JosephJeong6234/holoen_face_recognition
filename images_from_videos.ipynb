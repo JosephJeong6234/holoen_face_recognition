{
 "cells": [
  {
   "cell_type": "code",
   "execution_count": 2,
   "metadata": {},
   "outputs": [],
   "source": [
    "import cv2\n",
    "import os"
   ]
  },
  {
   "cell_type": "code",
   "execution_count": 4,
   "metadata": {},
   "outputs": [],
   "source": [
    "directory = 'videoes'\n",
    " \n",
    "# iterate over files in that directory\n",
    "for filename in os.listdir(directory):\n",
    "    folder = os.path.join(directory, filename)\n",
    "    for video in os.listdir(folder):\n",
    "        f = os.path.join(folder, video)\n",
    "        if os.path.isfile(f):\n",
    "            #cam = cv2.VideoCapture(\"Users/jjeong/tem_vchuba_faces/\" + f)\n",
    "            cam = cv2.VideoCapture(f)\n",
    "            try:\n",
    "                # creating a folder named data\n",
    "                if not os.path.exists('data'):\n",
    "                    os.makedirs('data')\n",
    "\n",
    "            # if not created then raise error\n",
    "            except OSError:\n",
    "                print ('Error: Creating directory of data')\n",
    "\n",
    "            # frame\n",
    "            currentframe = 0\n",
    "            counter = 0\n",
    "            while(True):\n",
    "                # reading from frame\n",
    "                ret,frame = cam.read()\n",
    "\n",
    "                if ret and (counter < 50):\n",
    "                    # if video is still left continue creating images\n",
    "                    if not os.path.exists('data/' + filename):\n",
    "                        os.makedirs('data/' + filename)\n",
    "                    name = './data/' + filename + '/frame' + str(currentframe) + video + '.jpg'\n",
    "                    # writing the extracted images\n",
    "                    cv2.imwrite(name, frame)\n",
    "\n",
    "                    # increasing counter so that it will\n",
    "                    # show how many frames are created\n",
    "                    currentframe += 1\n",
    "                    counter += 1\n",
    "                else:\n",
    "                    break\n",
    "cam.release()\n",
    "cv2.destroyAllWindows()"
   ]
  },
  {
   "cell_type": "code",
   "execution_count": 3,
   "metadata": {},
   "outputs": [],
   "source": [
    "directory = 'videoes'\n",
    " \n",
    "# iterate over files in that directory\n",
    "for filename in os.listdir(directory):\n",
    "    folder = os.path.join(directory, filename)\n",
    "    if filename == \"irys\":\n",
    "        for video in os.listdir(folder):\n",
    "            f = os.path.join(folder, video)\n",
    "            if os.path.isfile(f):\n",
    "                #cam = cv2.VideoCapture(\"Users/jjeong/tem_vchuba_faces/\" + f)\n",
    "                cam = cv2.VideoCapture(f)\n",
    "                try:\n",
    "                    # creating a folder named data\n",
    "                    if not os.path.exists('data'):\n",
    "                        os.makedirs('data')\n",
    "\n",
    "                # if not created then raise error\n",
    "                except OSError:\n",
    "                    print ('Error: Creating directory of data')\n",
    "\n",
    "                # frame\n",
    "                currentframe = 0\n",
    "                counter = 0\n",
    "                while(True):\n",
    "                    # reading from frame\n",
    "                    ret,frame = cam.read()\n",
    "\n",
    "                    if ret and (counter < 50):\n",
    "                        # if video is still left continue creating images\n",
    "                        if not os.path.exists('data/' + filename):\n",
    "                            os.makedirs('data/' + filename)\n",
    "                        name = './data/' + filename + '/frame' + str(currentframe) + video + '.jpg'\n",
    "                        # writing the extracted images\n",
    "                        cv2.imwrite(name, frame)\n",
    "\n",
    "                        # increasing counter so that it will\n",
    "                        # show how many frames are created\n",
    "                        currentframe += 1\n",
    "                        counter += 1\n",
    "                    else:\n",
    "                        break\n",
    "cam.release()\n",
    "cv2.destroyAllWindows()"
   ]
  },
  {
   "cell_type": "code",
   "execution_count": 1,
   "metadata": {},
   "outputs": [
    {
     "data": {
      "text/plain": [
       "'/Users/jjeong/tem_vchuba_faces'"
      ]
     },
     "execution_count": 1,
     "metadata": {},
     "output_type": "execute_result"
    }
   ],
   "source": [
    "%pwd"
   ]
  },
  {
   "cell_type": "code",
   "execution_count": null,
   "metadata": {},
   "outputs": [],
   "source": []
  }
 ],
 "metadata": {
  "kernelspec": {
   "display_name": "Python 3",
   "language": "python",
   "name": "python3"
  },
  "language_info": {
   "codemirror_mode": {
    "name": "ipython",
    "version": 3
   },
   "file_extension": ".py",
   "mimetype": "text/x-python",
   "name": "python",
   "nbconvert_exporter": "python",
   "pygments_lexer": "ipython3",
   "version": "3.8.3"
  }
 },
 "nbformat": 4,
 "nbformat_minor": 4
}
